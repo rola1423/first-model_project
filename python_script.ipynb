{
  "nbformat": 4,
  "nbformat_minor": 0,
  "metadata": {
    "colab": {
      "provenance": []
    },
    "kernelspec": {
      "name": "python3",
      "display_name": "Python 3"
    },
    "language_info": {
      "name": "python"
    }
  },
  "cells": [
    {
      "cell_type": "code",
      "execution_count": 9,
      "metadata": {
        "colab": {
          "base_uri": "https://localhost:8080/"
        },
        "id": "w_86CpjgQad-",
        "outputId": "3a3545fa-0623-40fb-8fdb-164ba311051f"
      },
      "outputs": [
        {
          "output_type": "stream",
          "name": "stdout",
          "text": [
            "1/1 [==============================] - 1s 1s/step\n",
            "Class: 0 Programmer / Developer\n",
            "Confidence Score: 0.998604\n"
          ]
        }
      ],
      "source": [
        "from keras.models import load_model\n",
        "from PIL import Image, ImageOps\n",
        "import numpy as np\n",
        "\n",
        "np.set_printoptions(suppress=True)\n",
        "\n",
        "# تحميل النموذج والملفات\n",
        "model = load_model(\"k_model.h5\", compile=False)\n",
        "class_names = open(\"labels.txt\", \"r\").readlines()\n",
        "\n",
        "# تحميل الصورة\n",
        "image = Image.open(\"/content/تنزيل.jpg\").convert(\"RGB\")\n",
        "\n",
        "# معالجة الصورة\n",
        "size = (224, 224)\n",
        "image = ImageOps.fit(image, size, Image.Resampling.LANCZOS)\n",
        "image_array = np.asarray(image)\n",
        "normalized_image_array = (image_array.astype(np.float32) / 127.5) - 1\n",
        "data = np.ndarray(shape=(1, 224, 224, 3), dtype=np.float32)\n",
        "data[0] = normalized_image_array\n",
        "\n",
        "# التنبؤ\n",
        "prediction = model.predict(data)\n",
        "index = np.argmax(prediction)\n",
        "class_name = class_names[index].strip()\n",
        "confidence_score = prediction[0][index]\n",
        "\n",
        "# النتيجة\n",
        "print(\"Class:\", class_name)\n",
        "print(\"Confidence Score:\", confidence_score)\n"
      ]
    }
  ]
}